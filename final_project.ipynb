{
 "cells": [
  {
   "cell_type": "raw",
   "metadata": {},
   "source": [
    "                                                   CSE 482 FINAL PROJECT\n",
    "                                                     By: Megha Erappa"
   ]
  },
  {
   "cell_type": "code",
   "execution_count": 47,
   "metadata": {},
   "outputs": [
    {
     "name": "stdout",
     "output_type": "stream",
     "text": [
      "Number of rows = 998\n"
     ]
    },
    {
     "data": {
      "text/html": [
       "<div>\n",
       "<style scoped>\n",
       "    .dataframe tbody tr th:only-of-type {\n",
       "        vertical-align: middle;\n",
       "    }\n",
       "\n",
       "    .dataframe tbody tr th {\n",
       "        vertical-align: top;\n",
       "    }\n",
       "\n",
       "    .dataframe thead th {\n",
       "        text-align: right;\n",
       "    }\n",
       "</style>\n",
       "<table border=\"1\" class=\"dataframe\">\n",
       "  <thead>\n",
       "    <tr style=\"text-align: right;\">\n",
       "      <th></th>\n",
       "      <th>Year</th>\n",
       "      <th>Type of Crime</th>\n",
       "      <th>Date</th>\n",
       "      <th>Time</th>\n",
       "      <th>Latitude</th>\n",
       "      <th>Longitude</th>\n",
       "      <th>Location</th>\n",
       "      <th>Arrest</th>\n",
       "    </tr>\n",
       "  </thead>\n",
       "  <tbody>\n",
       "    <tr>\n",
       "      <th>0</th>\n",
       "      <td>2017</td>\n",
       "      <td>DECEPTIVE PRACTICE</td>\n",
       "      <td>3/1/2018</td>\n",
       "      <td>3:52:00 PM</td>\n",
       "      <td>42.012293</td>\n",
       "      <td>-87.699714</td>\n",
       "      <td>CURRENCY EXCHANGE</td>\n",
       "      <td>True</td>\n",
       "    </tr>\n",
       "    <tr>\n",
       "      <th>1</th>\n",
       "      <td>2017</td>\n",
       "      <td>CRIMINAL DAMAGE</td>\n",
       "      <td>3/1/2018</td>\n",
       "      <td>3:52:00 PM</td>\n",
       "      <td>41.918712</td>\n",
       "      <td>-87.765511</td>\n",
       "      <td>JAIL / LOCK-UP FACILITY</td>\n",
       "      <td>True</td>\n",
       "    </tr>\n",
       "    <tr>\n",
       "      <th>2</th>\n",
       "      <td>2017</td>\n",
       "      <td>OTHER OFFENSE</td>\n",
       "      <td>3/1/2018</td>\n",
       "      <td>3:52:00 PM</td>\n",
       "      <td>41.814670</td>\n",
       "      <td>-87.690727</td>\n",
       "      <td>APARTMENT</td>\n",
       "      <td>True</td>\n",
       "    </tr>\n",
       "    <tr>\n",
       "      <th>3</th>\n",
       "      <td>2017</td>\n",
       "      <td>DECEPTIVE PRACTICE</td>\n",
       "      <td>3/1/2018</td>\n",
       "      <td>3:52:00 PM</td>\n",
       "      <td>41.938581</td>\n",
       "      <td>-87.765831</td>\n",
       "      <td>CURRENCY EXCHANGE</td>\n",
       "      <td>True</td>\n",
       "    </tr>\n",
       "    <tr>\n",
       "      <th>4</th>\n",
       "      <td>2017</td>\n",
       "      <td>CRIM SEXUAL ASSAULT</td>\n",
       "      <td>3/1/2018</td>\n",
       "      <td>3:52:00 PM</td>\n",
       "      <td>41.895805</td>\n",
       "      <td>-87.683159</td>\n",
       "      <td>STREET</td>\n",
       "      <td>True</td>\n",
       "    </tr>\n",
       "  </tbody>\n",
       "</table>\n",
       "</div>"
      ],
      "text/plain": [
       "   Year        Type of Crime      Date        Time   Latitude  Longitude  \\\n",
       "0  2017   DECEPTIVE PRACTICE  3/1/2018  3:52:00 PM  42.012293 -87.699714   \n",
       "1  2017      CRIMINAL DAMAGE  3/1/2018  3:52:00 PM  41.918712 -87.765511   \n",
       "2  2017        OTHER OFFENSE  3/1/2018  3:52:00 PM  41.814670 -87.690727   \n",
       "3  2017   DECEPTIVE PRACTICE  3/1/2018  3:52:00 PM  41.938581 -87.765831   \n",
       "4  2017  CRIM SEXUAL ASSAULT  3/1/2018  3:52:00 PM  41.895805 -87.683159   \n",
       "\n",
       "                  Location  Arrest  \n",
       "0        CURRENCY EXCHANGE    True  \n",
       "1  JAIL / LOCK-UP FACILITY    True  \n",
       "2                APARTMENT    True  \n",
       "3        CURRENCY EXCHANGE    True  \n",
       "4                   STREET    True  "
      ]
     },
     "execution_count": 47,
     "metadata": {},
     "output_type": "execute_result"
    }
   ],
   "source": [
    "import pandas as pd\n",
    "\n",
    "data = pd.read_csv(\"processedData.csv\")\n",
    "\n",
    "data = data.dropna()\n",
    "leng = len(data.index)\n",
    "\n",
    "print('Number of rows =', leng)\n",
    "\n",
    "data.head()"
   ]
  },
  {
   "cell_type": "code",
   "execution_count": 69,
   "metadata": {},
   "outputs": [],
   "source": [
    "from sklearn.model_selection import train_test_split\n",
    "\n",
    "y = data['Arrest']\n",
    "X_1 = data.drop('Arrest',axis = 1)\n",
    "X_2 = X_1.drop('Location',axis = 1)\n",
    "X_3 = X_2.drop('Time',axis = 1)\n",
    "X_4 = X_3.drop('Date',axis = 1)\n",
    "X = X_4.drop('Type of Crime',axis = 1)\n",
    "X_train, X_test, Y_train, Y_test = train_test_split(X,y,test_size=0.3, random_state=1)"
   ]
  },
  {
   "cell_type": "code",
   "execution_count": 70,
   "metadata": {},
   "outputs": [
    {
     "name": "stdout",
     "output_type": "stream",
     "text": [
      "Best hyperparameter, maxdepth = 1\n",
      "Test Accuracy = 0.7633333333333333\n"
     ]
    },
    {
     "data": {
      "image/png": "[encoded data removed]",
      "text/plain": [
       "<Figure size 432x288 with 1 Axes>"
      ]
     },
     "metadata": {},
     "output_type": "display_data"
    }
   ],
   "source": [
    "import numpy as np\n",
    "from sklearn import tree\n",
    "from sklearn.metrics import accuracy_score\n",
    "from sklearn.model_selection import cross_val_score\n",
    "import matplotlib.pyplot as plt\n",
    "%matplotlib inline\n",
    "\n",
    "maxdepths = [1, 5, 10, 20, 30, 40,50]\n",
    "validationAcc = np.zeros(len(maxdepths))\n",
    "testAcc = np.zeros(len(maxdepths))\n",
    "index = 0\n",
    "\n",
    "np.random.seed(1)\n",
    "for depth in maxdepths:\n",
    "    clf = tree.DecisionTreeClassifier(max_depth = depth)\n",
    "    scores = cross_val_score(clf, X_train, Y_train, cv=10)\n",
    "    validationAcc[index] = np.mean(scores)\n",
    "    clf.fit(X_train, Y_train)\n",
    "    Y_predTest = clf.predict(X_test)\n",
    "    testAcc[index] = accuracy_score(Y_test,Y_predTest)\n",
    "    index += 1\n",
    "    \n",
    "plt.plot(maxdepths, validationAcc, 'ro--', maxdepths, testAcc, 'kv-')\n",
    "plt.xlabel('Maximum depth')\n",
    "plt.ylabel('Accuracy')\n",
    "plt.title('Decision tree')\n",
    "plt.legend(['Validation','Testing'])\n",
    "plt.ylim([0.6,1.0])\n",
    "\n",
    "bestHyperparam = np.argmax(validationAcc)\n",
    "print('Best hyperparameter, maxdepth =', maxdepths[bestHyperparam])\n",
    "print('Test Accuracy =', testAcc[bestHyperparam])"
   ]
  },
  {
   "cell_type": "code",
   "execution_count": 71,
   "metadata": {},
   "outputs": [
    {
     "name": "stdout",
     "output_type": "stream",
     "text": [
      "Best hyperparameter, C = 0.1\n",
      "Test Accuracy = 0.7633333333333333\n"
     ]
    },
    {
     "data": {
      "image/png": "[encoded data removed]",
      "text/plain": [
       "<Figure size 432x288 with 1 Axes>"
      ]
     },
     "metadata": {},
     "output_type": "display_data"
    }
   ],
   "source": [
    "from sklearn import linear_model\n",
    "\n",
    "regularizers = [0.1, 0.5, 1, 3, 5, 8, 10, 15, 20,30]\n",
    "validationAcc = np.zeros(len(regularizers))\n",
    "testAcc = np.zeros(len(regularizers))\n",
    "index = 0\n",
    "\n",
    "np.random.seed(1)\n",
    "for C in regularizers:\n",
    "    clf = linear_model.LogisticRegression(C= C, solver='liblinear', penalty='l1')\n",
    "    scores = cross_val_score( clf, X_train, Y_train, cv=10)\n",
    "    validationAcc[index] = np.mean(scores)\n",
    "    clf.fit(X_train, Y_train )\n",
    "    Y_predTest = clf.predict(X_test)\n",
    "    testAcc[index] = accuracy_score(Y_test,Y_predTest)\n",
    "    index += 1\n",
    "    \n",
    "plt.plot(regularizers, validationAcc, 'ro--', regularizers, testAcc, 'kv-')\n",
    "plt.xlabel('Regularizer (C)')\n",
    "plt.ylabel('Accuracy')\n",
    "plt.title('Logistic regression')\n",
    "plt.legend(['Validation','Testing'])\n",
    "plt.ylim([0.7,1.1])\n",
    "\n",
    "bestHyperparam = np.argmax(validationAcc)\n",
    "print('Best hyperparameter, C =', regularizers[bestHyperparam])\n",
    "print('Test Accuracy =', testAcc[bestHyperparam])"
   ]
  },
  {
   "cell_type": "code",
   "execution_count": 72,
   "metadata": {},
   "outputs": [
    {
     "name": "stdout",
     "output_type": "stream",
     "text": [
      "Test Accuracy = 0.7366666666666667\n"
     ]
    }
   ],
   "source": [
    "from sklearn import ensemble\n",
    "from sklearn.tree import DecisionTreeClassifier\n",
    "\n",
    "numEstimators = 500\n",
    "np.random.seed(1)\n",
    "clf = ensemble.RandomForestClassifier(n_estimators =numEstimators )\n",
    "clf.fit(X_train, Y_train )\n",
    "Y_pred = clf.predict(X_test)\n",
    "print('Test Accuracy =', accuracy_score(Y_test,Y_pred))"
   ]
  },
  {
   "cell_type": "code",
   "execution_count": 73,
   "metadata": {},
   "outputs": [
    {
     "data": {
      "text/plain": [
       "(array([989.,   7.,   0.,   0.,   0.,   0.,   0.,   0.,   0.,   2.]),\n",
       " array([0.02304546, 0.12085464, 0.21866382, 0.316473  , 0.41428218,\n",
       "        0.51209136, 0.60990054, 0.70770972, 0.8055189 , 0.90332808,\n",
       "        1.00113726]),\n",
       " <a list of 10 Patch objects>)"
      ]
     },
     "execution_count": 73,
     "metadata": {},
     "output_type": "execute_result"
    },
    {
     "data": {
      "image/png": "[encoded data removed]",
      "text/plain": [
       "<Figure size 432x288 with 1 Axes>"
      ]
     },
     "metadata": {},
     "output_type": "display_data"
    }
   ],
   "source": [
    "from sklearn.neighbors import NearestNeighbors\n",
    "import numpy as np\n",
    "from scipy.spatial import distance\n",
    "import matplotlib.pyplot as plt\n",
    "\n",
    "%matplotlib inline\n",
    "\n",
    "knn = 100\n",
    "x = knn+1\n",
    "nbrs = NearestNeighbors(n_neighbors = x).fit(X)\n",
    "distances, indices = nbrs.kneighbors(X)\n",
    "ax = plt.axes(yscale='log')\n",
    "ax.hist(distances[:,knn])"
   ]
  },
  {
   "cell_type": "code",
   "execution_count": 74,
   "metadata": {},
   "outputs": [
    {
     "data": {
      "text/html": [
       "<div>\n",
       "<style scoped>\n",
       "    .dataframe tbody tr th:only-of-type {\n",
       "        vertical-align: middle;\n",
       "    }\n",
       "\n",
       "    .dataframe tbody tr th {\n",
       "        vertical-align: top;\n",
       "    }\n",
       "\n",
       "    .dataframe thead th {\n",
       "        text-align: right;\n",
       "    }\n",
       "</style>\n",
       "<table border=\"1\" class=\"dataframe\">\n",
       "  <thead>\n",
       "    <tr style=\"text-align: right;\">\n",
       "      <th></th>\n",
       "      <th>index</th>\n",
       "      <th>score</th>\n",
       "    </tr>\n",
       "  </thead>\n",
       "  <tbody>\n",
       "    <tr>\n",
       "      <th>0</th>\n",
       "      <td>28.0</td>\n",
       "      <td>1.001137</td>\n",
       "    </tr>\n",
       "    <tr>\n",
       "      <th>1</th>\n",
       "      <td>31.0</td>\n",
       "      <td>1.000662</td>\n",
       "    </tr>\n",
       "    <tr>\n",
       "      <th>2</th>\n",
       "      <td>480.0</td>\n",
       "      <td>0.191655</td>\n",
       "    </tr>\n",
       "    <tr>\n",
       "      <th>3</th>\n",
       "      <td>486.0</td>\n",
       "      <td>0.183873</td>\n",
       "    </tr>\n",
       "    <tr>\n",
       "      <th>4</th>\n",
       "      <td>735.0</td>\n",
       "      <td>0.175100</td>\n",
       "    </tr>\n",
       "  </tbody>\n",
       "</table>\n",
       "</div>"
      ],
      "text/plain": [
       "   index     score\n",
       "0   28.0  1.001137\n",
       "1   31.0  1.000662\n",
       "2  480.0  0.191655\n",
       "3  486.0  0.183873\n",
       "4  735.0  0.175100"
      ]
     },
     "execution_count": 74,
     "metadata": {},
     "output_type": "execute_result"
    }
   ],
   "source": [
    "dist = distances[:,knn]\n",
    "outlier = np.flipud(np.argsort(dist))\n",
    "sort_dist = np.flipud(np.sort(dist))\n",
    "\n",
    "p = pd.DataFrame(np.column_stack((outlier,sort_dist)),columns=['index','score'])\n",
    "p.head()"
   ]
  },
  {
   "cell_type": "code",
   "execution_count": 77,
   "metadata": {},
   "outputs": [
    {
     "name": "stdout",
     "output_type": "stream",
     "text": [
      "Area under ROC = 0.4333\n"
     ]
    },
    {
     "data": {
      "image/png": "[encoded data removed]",
      "text/plain": [
       "<Figure size 432x288 with 1 Axes>"
      ]
     },
     "metadata": {},
     "output_type": "display_data"
    }
   ],
   "source": [
    "from sklearn.metrics import roc_curve, auc\n",
    "%matplotlib inline\n",
    "\n",
    "labels = (y == True)\n",
    "\n",
    "dist = distances[:,knn]\n",
    "fpr, tpr, thresholds = roc_curve(labels, dist )\n",
    "roc_auc = auc(fpr, tpr)\n",
    "plt.plot(fpr, tpr)\n",
    "print('Area under ROC = %.4f' % (roc_auc))"
   ]
  },
  {
   "cell_type": "raw",
   "metadata": {},
   "source": [
    "Prediction based on how many arrests were made based on the crime."
   ]
  },
  {
   "cell_type": "code",
   "execution_count": 114,
   "metadata": {},
   "outputs": [
    {
     "data": {
      "text/plain": [
       "[('DECEPTIVE PRACTICE', True, 8.0, None),\n",
       " ('CRIMINAL DAMAGE', True, 7.0, None),\n",
       " ('OTHER OFFENSE', True, 21.0, None),\n",
       " ('CRIM SEXUAL ASSAULT', True, 2.0, None),\n",
       " ('WEAPONS VIOLATION', True, 17.0, None)]"
      ]
     },
     "execution_count": 114,
     "metadata": {},
     "output_type": "execute_result"
    }
   ],
   "source": [
    "from surprise import Dataset\n",
    "from surprise import Reader\n",
    "import pandas as pd\n",
    "\n",
    "data_l = pd.read_csv(\"final_data_2.csv\")\n",
    "\n",
    "reader = Reader(line_format= 'user item rating' , sep=',', rating_scale=(0,172))\n",
    "data_final = Dataset.load_from_df(data_l[['Type of Crime','Arrest','Count']], reader=reader)\n",
    "data_final.raw_ratings[:5]"
   ]
  },
  {
   "cell_type": "code",
   "execution_count": 111,
   "metadata": {},
   "outputs": [
    {
     "data": {
      "text/plain": [
       "<surprise.prediction_algorithms.matrix_factorization.NMF at 0x2321f38ba90>"
      ]
     },
     "execution_count": 111,
     "metadata": {},
     "output_type": "execute_result"
    }
   ],
   "source": [
    "from surprise import NMF\n",
    "from surprise.model_selection import train_test_split\n",
    "\n",
    "trainset, testset = train_test_split(data_final, test_size = 0.5)\n",
    "a = 20\n",
    "b = 200\n",
    "algo = NMF(n_factors = a, n_epochs = b)\n",
    "algo.fit(trainset)"
   ]
  },
  {
   "cell_type": "code",
   "execution_count": 112,
   "metadata": {},
   "outputs": [
    {
     "name": "stdout",
     "output_type": "stream",
     "text": [
      "RMSE: 58.5525\n",
      "MAE:  37.8277\n"
     ]
    },
    {
     "data": {
      "text/plain": [
       "(58.552525104056556, 37.82770752843118)"
      ]
     },
     "execution_count": 112,
     "metadata": {},
     "output_type": "execute_result"
    }
   ],
   "source": [
    "from surprise import accuracy\n",
    "\n",
    "pred = algo.test(testset)\n",
    "accuracy.rmse(pred), accuracy.mae(pred)"
   ]
  },
  {
   "cell_type": "code",
   "execution_count": 116,
   "metadata": {},
   "outputs": [
    {
     "name": "stdout",
     "output_type": "stream",
     "text": [
      "user: BURGLARY   item: 0          r_ui = 66.00   est = 15.06   {'was_impossible': True, 'reason': 'User and item are unkown.'}\n",
      "user: ASSAULT    item: 0          r_ui = 60.00   est = 2.63   {'was_impossible': False}\n",
      "user: ARSON      item: 0          r_ui = 2.00   est = 15.06   {'was_impossible': True, 'reason': 'User and item are unkown.'}\n",
      "user: WEAPONS VIOLATION item: 1          r_ui = 16.00   est = 15.06   {'was_impossible': True, 'reason': 'User and item are unkown.'}\n",
      "user: KIDNAPPING item: 0          r_ui = 1.00   est = 15.06   {'was_impossible': True, 'reason': 'User and item are unkown.'}\n",
      "user: NARCOTICS  item: 1          r_ui = 38.00   est = 15.06   {'was_impossible': True, 'reason': 'User and item are unkown.'}\n",
      "user: BATTERY    item: 0          r_ui = 143.00   est = 15.06   {'was_impossible': True, 'reason': 'User and item are unkown.'}\n",
      "user: ROBBERY    item: 0          r_ui = 57.00   est = 15.06   {'was_impossible': True, 'reason': 'User and item are unkown.'}\n",
      "user: THEFT      item: 1          r_ui = 22.00   est = 15.06   {'was_impossible': True, 'reason': 'User and item are unkown.'}\n",
      "user: BURGLARY   item: 1          r_ui = 3.00   est = 15.06   {'was_impossible': True, 'reason': 'User and item are unkown.'}\n",
      "user: BATTERY    item: 1          r_ui = 51.00   est = 15.06   {'was_impossible': True, 'reason': 'User and item are unkown.'}\n",
      "user: OTHER OFFENSE item: 0          r_ui = 68.00   est = 15.06   {'was_impossible': True, 'reason': 'User and item are unkown.'}\n",
      "user: HOMICIDE   item: 0          r_ui = 1.00   est = 15.06   {'was_impossible': True, 'reason': 'User and item are unkown.'}\n",
      "user: ROBBERY    item: 1          r_ui = 10.00   est = 15.06   {'was_impossible': True, 'reason': 'User and item are unkown.'}\n",
      "user: THEFT      item: 0          r_ui = 189.00   est = 15.06   {'was_impossible': True, 'reason': 'User and item are unkown.'}\n"
     ]
    }
   ],
   "source": [
    "for i in range(15):\n",
    "    print(pred[i])"
   ]
  },
  {
   "cell_type": "raw",
   "metadata": {},
   "source": [
    "Prediction based on Location and how many arrests were made:"
   ]
  },
  {
   "cell_type": "code",
   "execution_count": 117,
   "metadata": {},
   "outputs": [
    {
     "data": {
      "text/plain": [
       "[('CURRENCY EXCHANGE', True, 4.0, None),\n",
       " ('JAIL / LOCK-UP FACILITY', True, 3.0, None),\n",
       " ('APARTMENT', True, 33.0, None),\n",
       " ('STREET', True, 44.0, None),\n",
       " ('ALLEY', True, 6.0, None)]"
      ]
     },
     "execution_count": 117,
     "metadata": {},
     "output_type": "execute_result"
    }
   ],
   "source": [
    "from surprise import Dataset\n",
    "from surprise import Reader\n",
    "import pandas as pd\n",
    "\n",
    "data_l = pd.read_csv(\"final_data.csv\")\n",
    "\n",
    "reader = Reader(line_format= 'user item rating' , sep=',', rating_scale=(0,172))\n",
    "data_final = Dataset.load_from_df(data_l[['Location','Arrest','Count']], reader=reader)\n",
    "data_final.raw_ratings[:5]"
   ]
  },
  {
   "cell_type": "code",
   "execution_count": 118,
   "metadata": {},
   "outputs": [
    {
     "data": {
      "text/plain": [
       "<surprise.prediction_algorithms.matrix_factorization.NMF at 0x2321f3a1940>"
      ]
     },
     "execution_count": 118,
     "metadata": {},
     "output_type": "execute_result"
    }
   ],
   "source": [
    "from surprise import NMF\n",
    "from surprise.model_selection import train_test_split\n",
    "\n",
    "trainset, testset = train_test_split(data_final, test_size = 0.5)\n",
    "a = 20\n",
    "b = 200\n",
    "algo = NMF(n_factors = a, n_epochs = b)\n",
    "algo.fit(trainset)"
   ]
  },
  {
   "cell_type": "code",
   "execution_count": 119,
   "metadata": {},
   "outputs": [
    {
     "name": "stdout",
     "output_type": "stream",
     "text": [
      "RMSE: 10.8944\n",
      "MAE:  9.3650\n"
     ]
    },
    {
     "data": {
      "text/plain": [
       "(10.894370986049823, 9.36497495926473)"
      ]
     },
     "execution_count": 119,
     "metadata": {},
     "output_type": "execute_result"
    }
   ],
   "source": [
    "from surprise import accuracy\n",
    "\n",
    "pred = algo.test(testset)\n",
    "accuracy.rmse(pred), accuracy.mae(pred)\n"
   ]
  },
  {
   "cell_type": "code",
   "execution_count": 120,
   "metadata": {},
   "outputs": [
    {
     "name": "stdout",
     "output_type": "stream",
     "text": [
      "user: TAVERN/LIQUOR STORE item: 0          r_ui = 3.00   est = 16.38   {'was_impossible': True, 'reason': 'User and item are unkown.'}\n",
      "user: GROCERY FOOD STORE item: 1          r_ui = 6.00   est = 0.00   {'was_impossible': False}\n",
      "user: CHA HALLWAY/STAIRWELL/ELEVATOR item: 0          r_ui = 1.00   est = 16.38   {'was_impossible': True, 'reason': 'User and item are unkown.'}\n",
      "user: CONVENIENCE STORE item: 1          r_ui = 1.00   est = 16.38   {'was_impossible': True, 'reason': 'User and item are unkown.'}\n",
      "user: RESIDENCE PORCH/HALLWAY item: 0          r_ui = 14.00   est = 16.38   {'was_impossible': True, 'reason': 'User and item are unkown.'}\n",
      "user: AIRCRAFT   item: 0          r_ui = 1.00   est = 16.38   {'was_impossible': True, 'reason': 'User and item are unkown.'}\n",
      "user: MEDICAL/DENTAL OFFICE item: 0          r_ui = 2.00   est = 16.38   {'was_impossible': True, 'reason': 'User and item are unkown.'}\n",
      "user: COMMERCIAL / BUSINESS OFFICE item: 1          r_ui = 1.00   est = 0.00   {'was_impossible': False}\n",
      "user: RESIDENTIAL YARD (FRONT/BACK) item: 0          r_ui = 13.00   est = 5.44   {'was_impossible': False}\n",
      "user: SIDEWALK   item: 0          r_ui = 34.00   est = 18.54   {'was_impossible': False}\n"
     ]
    }
   ],
   "source": [
    "for i in range(10):\n",
    "    print(pred[i])"
   ]
  }
 ],
 "metadata": {
  "kernelspec": {
   "display_name": "Python 3",
   "language": "python",
   "name": "python3"
  },
  "language_info": {
   "codemirror_mode": {
    "name": "ipython",
    "version": 3
   },
   "file_extension": ".py",
   "mimetype": "text/x-python",
   "name": "python",
   "nbconvert_exporter": "python",
   "pygments_lexer": "ipython3",
   "version": "3.6.5"
  }
 },
 "nbformat": 4,
 "nbformat_minor": 2
}
